{
 "cells": [
  {
   "cell_type": "code",
   "execution_count": 98,
   "metadata": {},
   "outputs": [],
   "source": [
    "# !pip install pandas google-cloud-storage\n",
    "# !pip freeze > requirements.txt"
   ]
  },
  {
   "cell_type": "code",
   "execution_count": 99,
   "metadata": {},
   "outputs": [],
   "source": [
    "import pandas as pd"
   ]
  },
  {
   "cell_type": "code",
   "execution_count": 100,
   "metadata": {},
   "outputs": [
    {
     "data": {
      "text/plain": [
       "<google.cloud.storage.client.Client at 0x7fa0da46edb0>"
      ]
     },
     "execution_count": 100,
     "metadata": {},
     "output_type": "execute_result"
    }
   ],
   "source": [
    "import os\n",
    "from google.cloud import storage\n",
    "\n",
    "# Set GCS credentials (Use absolute path)\n",
    "os.environ[\"GOOGLE_APPLICATION_CREDENTIALS\"] = \"../keys/creds.json\"\n",
    "\n",
    "# GCS Configuration\n",
    "BUCKET_NAME = \"indian_road_accidents-sandbox-449108\"\n",
    "storage_client = storage.Client()\n",
    "storage_client"
   ]
  },
  {
   "cell_type": "code",
   "execution_count": 101,
   "metadata": {},
   "outputs": [
    {
     "name": "stdout",
     "output_type": "stream",
     "text": [
      "{'States/UTs': 'string', '2018': 'Int64', '2019': 'Int64', '2020': 'Int64', '2021': 'Int64', '2022': 'Int64'}\n"
     ]
    }
   ],
   "source": [
    "# Read CSV without specifying schema initially\n",
    "df_sample = pd.read_csv(\"../data/state-wise-accidents.csv\", nrows=5)  # Read first few rows\n",
    "\n",
    "# Identify all year columns dynamically (Assuming they are numeric)\n",
    "years = [col for col in df_sample.columns if col.isnumeric()]\n",
    "\n",
    "# Build dynamic schema\n",
    "state_schema = {\"States/UTs\": \"string\"}  # Keep categorical column as string\n",
    "state_schema.update({year: \"Int64\" for year in years})  # Assign Int64 to all year columns\n",
    "\n",
    "print(state_schema)  # Debugging - See the generated schema"
   ]
  },
  {
   "cell_type": "code",
   "execution_count": 102,
   "metadata": {},
   "outputs": [
    {
     "data": {
      "text/html": [
       "<div>\n",
       "<style scoped>\n",
       "    .dataframe tbody tr th:only-of-type {\n",
       "        vertical-align: middle;\n",
       "    }\n",
       "\n",
       "    .dataframe tbody tr th {\n",
       "        vertical-align: top;\n",
       "    }\n",
       "\n",
       "    .dataframe thead th {\n",
       "        text-align: right;\n",
       "    }\n",
       "</style>\n",
       "<table border=\"1\" class=\"dataframe\">\n",
       "  <thead>\n",
       "    <tr style=\"text-align: right;\">\n",
       "      <th></th>\n",
       "      <th>States/UTs</th>\n",
       "      <th>2018</th>\n",
       "      <th>2019</th>\n",
       "      <th>2020</th>\n",
       "      <th>2021</th>\n",
       "      <th>2022</th>\n",
       "    </tr>\n",
       "    <tr>\n",
       "      <th>Sl. No.</th>\n",
       "      <th></th>\n",
       "      <th></th>\n",
       "      <th></th>\n",
       "      <th></th>\n",
       "      <th></th>\n",
       "      <th></th>\n",
       "    </tr>\n",
       "  </thead>\n",
       "  <tbody>\n",
       "    <tr>\n",
       "      <th>1</th>\n",
       "      <td>Andhra Pradesh</td>\n",
       "      <td>24475</td>\n",
       "      <td>21992</td>\n",
       "      <td>19509</td>\n",
       "      <td>21556</td>\n",
       "      <td>21249</td>\n",
       "    </tr>\n",
       "    <tr>\n",
       "      <th>2</th>\n",
       "      <td>Arunachal Pradesh</td>\n",
       "      <td>277</td>\n",
       "      <td>237</td>\n",
       "      <td>134</td>\n",
       "      <td>283</td>\n",
       "      <td>227</td>\n",
       "    </tr>\n",
       "    <tr>\n",
       "      <th>3</th>\n",
       "      <td>Assam</td>\n",
       "      <td>8248</td>\n",
       "      <td>8350</td>\n",
       "      <td>6595</td>\n",
       "      <td>7411</td>\n",
       "      <td>7023</td>\n",
       "    </tr>\n",
       "    <tr>\n",
       "      <th>4</th>\n",
       "      <td>Bihar</td>\n",
       "      <td>9600</td>\n",
       "      <td>10007</td>\n",
       "      <td>8639</td>\n",
       "      <td>9553</td>\n",
       "      <td>10801</td>\n",
       "    </tr>\n",
       "    <tr>\n",
       "      <th>5</th>\n",
       "      <td>Chhattisgarh</td>\n",
       "      <td>13864</td>\n",
       "      <td>13899</td>\n",
       "      <td>11656</td>\n",
       "      <td>12375</td>\n",
       "      <td>13279</td>\n",
       "    </tr>\n",
       "  </tbody>\n",
       "</table>\n",
       "</div>"
      ],
      "text/plain": [
       "                States/UTs   2018   2019   2020   2021   2022\n",
       "Sl. No.                                                      \n",
       "1           Andhra Pradesh  24475  21992  19509  21556  21249\n",
       "2        Arunachal Pradesh    277    237    134    283    227\n",
       "3                    Assam   8248   8350   6595   7411   7023\n",
       "4                    Bihar   9600  10007   8639   9553  10801\n",
       "5             Chhattisgarh  13864  13899  11656  12375  13279"
      ]
     },
     "execution_count": 102,
     "metadata": {},
     "output_type": "execute_result"
    }
   ],
   "source": [
    "state = pd.read_csv(\"../data/state-wise-accidents.csv\", index_col=0, dtype=state_schema)\n",
    "state.head()"
   ]
  },
  {
   "cell_type": "code",
   "execution_count": 103,
   "metadata": {},
   "outputs": [
    {
     "name": "stdout",
     "output_type": "stream",
     "text": [
      "<class 'pandas.core.frame.DataFrame'>\n",
      "Index: 37 entries, 1 to 37\n",
      "Data columns (total 6 columns):\n",
      " #   Column      Non-Null Count  Dtype \n",
      "---  ------      --------------  ----- \n",
      " 0   States/UTs  37 non-null     string\n",
      " 1   2018        36 non-null     Int64 \n",
      " 2   2019        36 non-null     Int64 \n",
      " 3   2020        35 non-null     Int64 \n",
      " 4   2021        36 non-null     Int64 \n",
      " 5   2022        36 non-null     Int64 \n",
      "dtypes: Int64(5), string(1)\n",
      "memory usage: 2.2 KB\n"
     ]
    }
   ],
   "source": [
    "state.info()"
   ]
  },
  {
   "cell_type": "code",
   "execution_count": 104,
   "metadata": {},
   "outputs": [
    {
     "data": {
      "text/plain": [
       "['2018', '2019', '2020', '2021', '2022']"
      ]
     },
     "execution_count": 104,
     "metadata": {},
     "output_type": "execute_result"
    }
   ],
   "source": [
    "years = [col for col in state.columns if col.isnumeric()]\n",
    "years"
   ]
  },
  {
   "cell_type": "code",
   "execution_count": 105,
   "metadata": {},
   "outputs": [
    {
     "data": {
      "text/html": [
       "<div>\n",
       "<style scoped>\n",
       "    .dataframe tbody tr th:only-of-type {\n",
       "        vertical-align: middle;\n",
       "    }\n",
       "\n",
       "    .dataframe tbody tr th {\n",
       "        vertical-align: top;\n",
       "    }\n",
       "\n",
       "    .dataframe thead th {\n",
       "        text-align: right;\n",
       "    }\n",
       "</style>\n",
       "<table border=\"1\" class=\"dataframe\">\n",
       "  <thead>\n",
       "    <tr style=\"text-align: right;\">\n",
       "      <th></th>\n",
       "      <th>States/UTs</th>\n",
       "      <th>2018</th>\n",
       "      <th>2019</th>\n",
       "      <th>2020</th>\n",
       "      <th>2021</th>\n",
       "      <th>2022</th>\n",
       "    </tr>\n",
       "    <tr>\n",
       "      <th>Sl. No.</th>\n",
       "      <th></th>\n",
       "      <th></th>\n",
       "      <th></th>\n",
       "      <th></th>\n",
       "      <th></th>\n",
       "      <th></th>\n",
       "    </tr>\n",
       "  </thead>\n",
       "  <tbody>\n",
       "    <tr>\n",
       "      <th>1</th>\n",
       "      <td>Andhra Pradesh</td>\n",
       "      <td>24475</td>\n",
       "      <td>21992</td>\n",
       "      <td>19509</td>\n",
       "      <td>21556</td>\n",
       "      <td>21249</td>\n",
       "    </tr>\n",
       "    <tr>\n",
       "      <th>2</th>\n",
       "      <td>Arunachal Pradesh</td>\n",
       "      <td>277</td>\n",
       "      <td>237</td>\n",
       "      <td>134</td>\n",
       "      <td>283</td>\n",
       "      <td>227</td>\n",
       "    </tr>\n",
       "    <tr>\n",
       "      <th>3</th>\n",
       "      <td>Assam</td>\n",
       "      <td>8248</td>\n",
       "      <td>8350</td>\n",
       "      <td>6595</td>\n",
       "      <td>7411</td>\n",
       "      <td>7023</td>\n",
       "    </tr>\n",
       "    <tr>\n",
       "      <th>4</th>\n",
       "      <td>Bihar</td>\n",
       "      <td>9600</td>\n",
       "      <td>10007</td>\n",
       "      <td>8639</td>\n",
       "      <td>9553</td>\n",
       "      <td>10801</td>\n",
       "    </tr>\n",
       "    <tr>\n",
       "      <th>5</th>\n",
       "      <td>Chhattisgarh</td>\n",
       "      <td>13864</td>\n",
       "      <td>13899</td>\n",
       "      <td>11656</td>\n",
       "      <td>12375</td>\n",
       "      <td>13279</td>\n",
       "    </tr>\n",
       "  </tbody>\n",
       "</table>\n",
       "</div>"
      ],
      "text/plain": [
       "                States/UTs   2018   2019   2020   2021   2022\n",
       "Sl. No.                                                      \n",
       "1           Andhra Pradesh  24475  21992  19509  21556  21249\n",
       "2        Arunachal Pradesh    277    237    134    283    227\n",
       "3                    Assam   8248   8350   6595   7411   7023\n",
       "4                    Bihar   9600  10007   8639   9553  10801\n",
       "5             Chhattisgarh  13864  13899  11656  12375  13279"
      ]
     },
     "execution_count": 105,
     "metadata": {},
     "output_type": "execute_result"
    }
   ],
   "source": [
    "state.head()"
   ]
  },
  {
   "cell_type": "code",
   "execution_count": 106,
   "metadata": {},
   "outputs": [
    {
     "name": "stdout",
     "output_type": "stream",
     "text": [
      "Uploaded 2018.csv to GCS under state_wise_road_accidents/raw/2018/\n",
      "Uploaded 2019.csv to GCS under state_wise_road_accidents/raw/2019/\n",
      "Uploaded 2020.csv to GCS under state_wise_road_accidents/raw/2020/\n",
      "Uploaded 2021.csv to GCS under state_wise_road_accidents/raw/2021/\n",
      "Uploaded 2022.csv to GCS under state_wise_road_accidents/raw/2022/\n",
      "All files uploaded successfully!\n"
     ]
    }
   ],
   "source": [
    "for year in years:\n",
    "    df_year = state[[\"States/UTs\", year]].rename(columns={year: \"Accidents\"})\n",
    "    df_year[\"year\"] = year  # Add the year column\n",
    "    \n",
    "    # Reorder columns to have \"year\" first\n",
    "    df_year = df_year[[\"year\", \"States/UTs\", \"Accidents\"]]\n",
    "\n",
    "    # Convert DataFrame to CSV string\n",
    "    csv_data = df_year.to_csv(index=False)\n",
    "\n",
    "    # Upload to GCS\n",
    "    bucket = storage_client.bucket(BUCKET_NAME)\n",
    "    blob = bucket.blob(f\"state_wise_road_accidents/raw/{year}/{year}.csv\")\n",
    "    blob.upload_from_string(csv_data, content_type=\"text/csv\")\n",
    "\n",
    "    print(f\"Uploaded {year}.csv to GCS under state_wise_road_accidents/raw/{year}/\")\n",
    "\n",
    "print(\"All files uploaded successfully!\")"
   ]
  },
  {
   "cell_type": "code",
   "execution_count": null,
   "metadata": {},
   "outputs": [],
   "source": []
  },
  {
   "cell_type": "code",
   "execution_count": null,
   "metadata": {},
   "outputs": [],
   "source": []
  },
  {
   "cell_type": "code",
   "execution_count": 107,
   "metadata": {},
   "outputs": [
    {
     "name": "stdout",
     "output_type": "stream",
     "text": [
      "{'Type of Collision': 'string', '2018': 'Int64', '2019': 'Int64', '2020': 'Int64', '2021': 'Int64', '2022': 'Int64'}\n"
     ]
    }
   ],
   "source": [
    "# Read CSV without specifying schema initially\n",
    "df_sample = pd.read_csv(\"../data/deaths-by-accident-type.csv\", nrows=5)  # Read first few rows\n",
    "\n",
    "# Identify all year columns dynamically (Assuming they are numeric)\n",
    "years = [col for col in df_sample.columns if col.isnumeric()]\n",
    "\n",
    "# Build dynamic schema\n",
    "deaths_schema = {\"Type of Collision\": \"string\"}  # Keep categorical column as string\n",
    "deaths_schema.update({year: \"Int64\" for year in years})  # Assign Int64 to all year columns\n",
    "\n",
    "print(deaths_schema)  # Debugging - See the generated schema"
   ]
  },
  {
   "cell_type": "code",
   "execution_count": 108,
   "metadata": {},
   "outputs": [
    {
     "data": {
      "text/html": [
       "<div>\n",
       "<style scoped>\n",
       "    .dataframe tbody tr th:only-of-type {\n",
       "        vertical-align: middle;\n",
       "    }\n",
       "\n",
       "    .dataframe tbody tr th {\n",
       "        vertical-align: top;\n",
       "    }\n",
       "\n",
       "    .dataframe thead th {\n",
       "        text-align: right;\n",
       "    }\n",
       "</style>\n",
       "<table border=\"1\" class=\"dataframe\">\n",
       "  <thead>\n",
       "    <tr style=\"text-align: right;\">\n",
       "      <th></th>\n",
       "      <th>Type of Collision</th>\n",
       "      <th>2018</th>\n",
       "      <th>2019</th>\n",
       "      <th>2020</th>\n",
       "      <th>2021</th>\n",
       "      <th>2022</th>\n",
       "    </tr>\n",
       "    <tr>\n",
       "      <th>Sl. No.</th>\n",
       "      <th></th>\n",
       "      <th></th>\n",
       "      <th></th>\n",
       "      <th></th>\n",
       "      <th></th>\n",
       "      <th></th>\n",
       "    </tr>\n",
       "  </thead>\n",
       "  <tbody>\n",
       "    <tr>\n",
       "      <th>1</th>\n",
       "      <td>Hit and Run</td>\n",
       "      <td>28619</td>\n",
       "      <td>29354</td>\n",
       "      <td>23159</td>\n",
       "      <td>25938</td>\n",
       "      <td>30486</td>\n",
       "    </tr>\n",
       "    <tr>\n",
       "      <th>2</th>\n",
       "      <td>With parked Vehicle</td>\n",
       "      <td>4780</td>\n",
       "      <td>5086</td>\n",
       "      <td>4243</td>\n",
       "      <td>4925</td>\n",
       "      <td>6012</td>\n",
       "    </tr>\n",
       "    <tr>\n",
       "      <th>3</th>\n",
       "      <td>Hit from Back</td>\n",
       "      <td>25801</td>\n",
       "      <td>27765</td>\n",
       "      <td>22989</td>\n",
       "      <td>28712</td>\n",
       "      <td>32907</td>\n",
       "    </tr>\n",
       "    <tr>\n",
       "      <th>4</th>\n",
       "      <td>Hit from side</td>\n",
       "      <td>15477</td>\n",
       "      <td>16342</td>\n",
       "      <td>14271</td>\n",
       "      <td>18299</td>\n",
       "      <td>20357</td>\n",
       "    </tr>\n",
       "    <tr>\n",
       "      <th>5</th>\n",
       "      <td>Run off Road</td>\n",
       "      <td>7731</td>\n",
       "      <td>8419</td>\n",
       "      <td>7782</td>\n",
       "      <td>9150</td>\n",
       "      <td>9862</td>\n",
       "    </tr>\n",
       "    <tr>\n",
       "      <th>6</th>\n",
       "      <td>Fixed object</td>\n",
       "      <td>4623</td>\n",
       "      <td>5739</td>\n",
       "      <td>5039</td>\n",
       "      <td>6600</td>\n",
       "      <td>7307</td>\n",
       "    </tr>\n",
       "    <tr>\n",
       "      <th>7</th>\n",
       "      <td>Vehicle overturn</td>\n",
       "      <td>9548</td>\n",
       "      <td>9011</td>\n",
       "      <td>8611</td>\n",
       "      <td>9122</td>\n",
       "      <td>9827</td>\n",
       "    </tr>\n",
       "    <tr>\n",
       "      <th>8</th>\n",
       "      <td>Head on collision</td>\n",
       "      <td>29646</td>\n",
       "      <td>26772</td>\n",
       "      <td>25289</td>\n",
       "      <td>27248</td>\n",
       "      <td>26413</td>\n",
       "    </tr>\n",
       "    <tr>\n",
       "      <th>9</th>\n",
       "      <td>Others</td>\n",
       "      <td>25192</td>\n",
       "      <td>22625</td>\n",
       "      <td>20331</td>\n",
       "      <td>23978</td>\n",
       "      <td>25320</td>\n",
       "    </tr>\n",
       "  </tbody>\n",
       "</table>\n",
       "</div>"
      ],
      "text/plain": [
       "           Type of Collision   2018   2019   2020   2021   2022\n",
       "Sl. No.                                                        \n",
       "1                Hit and Run  28619  29354  23159  25938  30486\n",
       "2        With parked Vehicle   4780   5086   4243   4925   6012\n",
       "3              Hit from Back  25801  27765  22989  28712  32907\n",
       "4              Hit from side  15477  16342  14271  18299  20357\n",
       "5               Run off Road   7731   8419   7782   9150   9862\n",
       "6               Fixed object   4623   5739   5039   6600   7307\n",
       "7           Vehicle overturn   9548   9011   8611   9122   9827\n",
       "8          Head on collision  29646  26772  25289  27248  26413\n",
       "9                     Others  25192  22625  20331  23978  25320"
      ]
     },
     "execution_count": 108,
     "metadata": {},
     "output_type": "execute_result"
    }
   ],
   "source": [
    "deaths = pd.read_csv(\"../data/deaths-by-accident-type.csv\", index_col=0, dtype=deaths_schema)\n",
    "deaths"
   ]
  },
  {
   "cell_type": "code",
   "execution_count": 109,
   "metadata": {},
   "outputs": [
    {
     "data": {
      "text/plain": [
       "Type of Collision    string[python]\n",
       "2018                          Int64\n",
       "2019                          Int64\n",
       "2020                          Int64\n",
       "2021                          Int64\n",
       "2022                          Int64\n",
       "dtype: object"
      ]
     },
     "execution_count": 109,
     "metadata": {},
     "output_type": "execute_result"
    }
   ],
   "source": [
    "deaths.dtypes"
   ]
  },
  {
   "cell_type": "code",
   "execution_count": 110,
   "metadata": {},
   "outputs": [
    {
     "data": {
      "text/plain": [
       "['2018', '2019', '2020', '2021', '2022']"
      ]
     },
     "execution_count": 110,
     "metadata": {},
     "output_type": "execute_result"
    }
   ],
   "source": [
    "years = [col for col in deaths.columns if col.isnumeric()]\n",
    "years"
   ]
  },
  {
   "cell_type": "code",
   "execution_count": 111,
   "metadata": {},
   "outputs": [
    {
     "data": {
      "text/html": [
       "<div>\n",
       "<style scoped>\n",
       "    .dataframe tbody tr th:only-of-type {\n",
       "        vertical-align: middle;\n",
       "    }\n",
       "\n",
       "    .dataframe tbody tr th {\n",
       "        vertical-align: top;\n",
       "    }\n",
       "\n",
       "    .dataframe thead th {\n",
       "        text-align: right;\n",
       "    }\n",
       "</style>\n",
       "<table border=\"1\" class=\"dataframe\">\n",
       "  <thead>\n",
       "    <tr style=\"text-align: right;\">\n",
       "      <th></th>\n",
       "      <th>Type of Collision</th>\n",
       "      <th>Deaths</th>\n",
       "      <th>year</th>\n",
       "    </tr>\n",
       "    <tr>\n",
       "      <th>Sl. No.</th>\n",
       "      <th></th>\n",
       "      <th></th>\n",
       "      <th></th>\n",
       "    </tr>\n",
       "  </thead>\n",
       "  <tbody>\n",
       "    <tr>\n",
       "      <th>1</th>\n",
       "      <td>Hit and Run</td>\n",
       "      <td>29354</td>\n",
       "      <td>2019</td>\n",
       "    </tr>\n",
       "    <tr>\n",
       "      <th>2</th>\n",
       "      <td>With parked Vehicle</td>\n",
       "      <td>5086</td>\n",
       "      <td>2019</td>\n",
       "    </tr>\n",
       "    <tr>\n",
       "      <th>3</th>\n",
       "      <td>Hit from Back</td>\n",
       "      <td>27765</td>\n",
       "      <td>2019</td>\n",
       "    </tr>\n",
       "    <tr>\n",
       "      <th>4</th>\n",
       "      <td>Hit from side</td>\n",
       "      <td>16342</td>\n",
       "      <td>2019</td>\n",
       "    </tr>\n",
       "    <tr>\n",
       "      <th>5</th>\n",
       "      <td>Run off Road</td>\n",
       "      <td>8419</td>\n",
       "      <td>2019</td>\n",
       "    </tr>\n",
       "    <tr>\n",
       "      <th>6</th>\n",
       "      <td>Fixed object</td>\n",
       "      <td>5739</td>\n",
       "      <td>2019</td>\n",
       "    </tr>\n",
       "    <tr>\n",
       "      <th>7</th>\n",
       "      <td>Vehicle overturn</td>\n",
       "      <td>9011</td>\n",
       "      <td>2019</td>\n",
       "    </tr>\n",
       "    <tr>\n",
       "      <th>8</th>\n",
       "      <td>Head on collision</td>\n",
       "      <td>26772</td>\n",
       "      <td>2019</td>\n",
       "    </tr>\n",
       "    <tr>\n",
       "      <th>9</th>\n",
       "      <td>Others</td>\n",
       "      <td>22625</td>\n",
       "      <td>2019</td>\n",
       "    </tr>\n",
       "  </tbody>\n",
       "</table>\n",
       "</div>"
      ],
      "text/plain": [
       "           Type of Collision  Deaths  year\n",
       "Sl. No.                                   \n",
       "1                Hit and Run   29354  2019\n",
       "2        With parked Vehicle    5086  2019\n",
       "3              Hit from Back   27765  2019\n",
       "4              Hit from side   16342  2019\n",
       "5               Run off Road    8419  2019\n",
       "6               Fixed object    5739  2019\n",
       "7           Vehicle overturn    9011  2019\n",
       "8          Head on collision   26772  2019\n",
       "9                     Others   22625  2019"
      ]
     },
     "execution_count": 111,
     "metadata": {},
     "output_type": "execute_result"
    }
   ],
   "source": [
    "year = years[1]\n",
    "df_year = deaths[[\"Type of Collision\", year]].rename(columns={year: \"Deaths\"})\n",
    "df_year[\"year\"] = year\n",
    "df_year"
   ]
  },
  {
   "cell_type": "code",
   "execution_count": 112,
   "metadata": {},
   "outputs": [
    {
     "name": "stdout",
     "output_type": "stream",
     "text": [
      "Uploaded 2018.csv to GCS under deaths_by_road_accidents/raw/2018/\n",
      "Uploaded 2019.csv to GCS under deaths_by_road_accidents/raw/2019/\n",
      "Uploaded 2020.csv to GCS under deaths_by_road_accidents/raw/2020/\n",
      "Uploaded 2021.csv to GCS under deaths_by_road_accidents/raw/2021/\n",
      "Uploaded 2022.csv to GCS under deaths_by_road_accidents/raw/2022/\n",
      "All files uploaded successfully!\n"
     ]
    }
   ],
   "source": [
    "for year in years:\n",
    "    df_year = deaths[[\"Type of Collision\", year]].rename(columns={year: \"Deaths\"})\n",
    "    df_year[\"year\"] = year  # Add the year column\n",
    "    \n",
    "    # Reorder columns to have \"year\" first\n",
    "    df_year = df_year[[\"year\", \"Type of Collision\", \"Deaths\"]]\n",
    "\n",
    "    # Convert DataFrame to CSV string\n",
    "    csv_data = df_year.to_csv(index=False)\n",
    "\n",
    "    # Upload to GCS\n",
    "    bucket = storage_client.bucket(BUCKET_NAME)\n",
    "    blob = bucket.blob(f\"deaths_by_road_accidents/raw/{year}/{year}.csv\")\n",
    "    blob.upload_from_string(csv_data, content_type=\"text/csv\")\n",
    "\n",
    "    print(f\"Uploaded {year}.csv to GCS under deaths_by_road_accidents/raw/{year}/\")\n",
    "\n",
    "print(\"All files uploaded successfully!\")"
   ]
  },
  {
   "cell_type": "code",
   "execution_count": null,
   "metadata": {},
   "outputs": [],
   "source": []
  },
  {
   "cell_type": "code",
   "execution_count": null,
   "metadata": {},
   "outputs": [],
   "source": []
  },
  {
   "cell_type": "code",
   "execution_count": null,
   "metadata": {},
   "outputs": [],
   "source": []
  },
  {
   "cell_type": "code",
   "execution_count": null,
   "metadata": {},
   "outputs": [],
   "source": []
  },
  {
   "cell_type": "code",
   "execution_count": null,
   "metadata": {},
   "outputs": [],
   "source": []
  }
 ],
 "metadata": {
  "kernelspec": {
   "display_name": "data-pipeline",
   "language": "python",
   "name": "python3"
  },
  "language_info": {
   "codemirror_mode": {
    "name": "ipython",
    "version": 3
   },
   "file_extension": ".py",
   "mimetype": "text/x-python",
   "name": "python",
   "nbconvert_exporter": "python",
   "pygments_lexer": "ipython3",
   "version": "3.12.3"
  }
 },
 "nbformat": 4,
 "nbformat_minor": 2
}
